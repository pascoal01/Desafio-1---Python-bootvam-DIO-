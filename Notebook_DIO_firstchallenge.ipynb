{
 "cells": [
  {
   "cell_type": "markdown",
   "id": "b3301140",
   "metadata": {},
   "source": [
    "# Desafios Iniciais PY - Unimed-BH\n",
    "\n",
    "DESAFIO 1\n",
    "\n",
    "* Saruman, o Branco, um grande mago da Terra-média, traiu os bons costumes e se filiou ao lorde do mal, Sauron. Sauron comanda a torre de Minas Morgul, que abriga um dos seus mais temidos servos, o Rei Bruxo de Angmar, um dos Nazgûl (antigos reis humanos que foram corrompidos pelos poderes dos anéis de Sauron). Saruman comanda a torre de Orthanc, onde cria seus servos Uruk-hai, orcs mais terríveis que os convencionais. Para comunicação, eles utilizam as relíquias esféricas chamadas Palantír, que ficam no topo de suas torres.\n",
    "\n",
    "* A Terra-média avança cada vez mais em tecnologia, muito impulsionada pelas guerras que a acometem diariamente. Um dos problemas que tem atrapalhado sua população é a Interferência de Comunicação Mágica (ICM). Os estudiosos de Minas Tirith, grande cidadela de Gondor, concluíram que para calcular o ICM para Palantír’s, basta dividir a distância entre os dois Palantír’s, pela soma do diâmetro dos mesmos. Gandalf, o Cinza, chegou a questionar essa conclusão, alegando que ela não fazia muito sentido, mas ele mesmo concluiu que dar sentido às coisas não faz sentido. Saruman e Sauron precisam de uma comunicação estável, pois têm medo que Frodo e seus amigos consigam atrapalhar seus planos, portanto, querem saber quanto de ICM há na comunicação de seus Palantír’s, para que saibam quanto de magia devem empregar na comunicação.\n",
    "\n",
    "    Entrada:\n",
    "        A entrada é composta por 3 inteiros, N(0 < N < 10000), X e Y(0 < X, Y < 100), que indicam, respectivamente, a distância entre os Palantír, o diâmetro do Palantír de Sauron e o diâmetro do Palantír de Saruman.\n",
    "    \n",
    "    Saída:\n",
    "        Um valor real indicando o ICM da comunicação dos Palatír de Sauron e Saruman, com 2 casas decimais.\n",
    "\n"
   ]
  },
  {
   "cell_type": "code",
   "execution_count": 4,
   "id": "355ba2cb",
   "metadata": {},
   "outputs": [
    {
     "name": "stdout",
     "output_type": "stream",
     "text": [
      "10 5 14\n",
      "0.53\n"
     ]
    }
   ],
   "source": [
    "entrada = input().split()\n",
    "\n",
    "\n",
    "distancia = int(entrada[0]) \n",
    "diametro1 = int(entrada[1])\n",
    "diametro2 = int(entrada[2])\n",
    "\n",
    "# 100 / ( 2  + 2)\n",
    "ICM = distancia / (diametro1 + diametro2)\n",
    "\n",
    "# Formatanfo  decimais 2 .2f\n",
    "print(f\"{ICM:.2f}\")\n",
    "\n",
    "# TODO: Calcule o ICM da comunicação dos Palatír de Sauron e Saruman, com 2 casas decimais no espaço #em branco abaixo:"
   ]
  },
  {
   "cell_type": "markdown",
   "id": "5dcc8e9e",
   "metadata": {},
   "source": [
    "# Desafio 2:\n",
    "\n",
    "- Em 2012 foi alcançado um novo recorde mundial na famosa Competição  de Cachorros-Quentes do Nathan: o campeão, Joey Chestnut, devorou 68  cachorros-quentes em dez minutos, um aumento incrível em relação aos 62  sanduíches devorados pelo mesmo Chestnut em 2011.\n",
    "\n",
    "O restaurante Nathan’s Famous Corporation, localizado no Brooklyn,  NY, é o responsável pela competição. Eles produzem deliciosos  cachorros-quentes, mundialmente famosos, mas quando o assunto é  matemática eles não são tão bons. Eles desejam ser listados no Livro de  Recordes do Guinness, mas para isso devem preencher um formulário  descrevendo os fatos básicos da competição. Em particular, eles devem  informar o número médio de cachorros-quentes consumidos pelos  participantes durante a competição.\n",
    "\n",
    "Você pode ajudá-los? Eles prometeram pagá-lo com um dos seus  saborosos cachorros-quentes. Dados o número total de cachorros-quentes  consumidos e o número total de participantes na competição, você deve  escrever um programa para determinar o número médio de cachorros-quentes consumidos pelos participantes.\n",
    "\n",
    " Entrada:\n",
    "  - A entrada consiste de uma única linha que contém dois inteiros H e P (1 ≤ H, P ≤ 1000) indicando respectivamente o número total de  cachorros-quentes consumidos e o número total de participantes na  competição.\n",
    " Saída:\n",
    "  - Seu programa deve produzir uma única linha com um número racional  representando o número médio de cachorros-quentes consumidos pelos  participantes. O resultado deve ser escrito como um número racional com  exatamente dois dígitos após o ponto decimal, arredondado se necessário.\n",
    "  \n",
    "  <figure><table>\n",
    "<thead>\n",
    "<tr><th style='text-align:center;' >Exemplo de Entrada</th><th style='text-align:center;' >Exemplo de Saída</th></tr></thead>\n",
    "<tbody><tr><td style='text-align:center;' >10 90</td><td style='text-align:center;' >0.11</td></tr><tr><td style='text-align:center;' >840 11</td><td style='text-align:center;' >76.36</td></tr><tr><td style='text-align:center;' >1 50</td><td style='text-align:center;' >0.02</td></tr><tr><td style='text-align:center;' >34 1000</td><td style='text-align:center;' >0.03</td></tr></tbody>\n",
    "</table></figure>\n",
    "<p>&nbsp;</p>\n"
   ]
  },
  {
   "cell_type": "code",
   "execution_count": 5,
   "id": "0c3bebe4",
   "metadata": {},
   "outputs": [
    {
     "name": "stdout",
     "output_type": "stream",
     "text": [
      "10 2\n",
      "5.00\n"
     ]
    }
   ],
   "source": [
    "#hotdog challenge\n",
    "h, p = list(map(float, input().split(\" \")))\n",
    "\n",
    "\n",
    "def    total_participantes():\n",
    "\n",
    "  return h / p\n",
    "\n",
    "print(f\"{total_participantes():.2f}\")"
   ]
  },
  {
   "cell_type": "markdown",
   "id": "132e67c1",
   "metadata": {},
   "source": [
    "<h1>Desafio 3:</h1>\n",
    "<ul>\n",
    "<li>Rubens quer calcular e mostrar a quantidade de litros de  combustível gastos em uma viagem de carro, sendo que seu carro faz 12  KM/L. Como ele não sabe fazer um programa que o auxilie nessa missão,  ele te pede ajuda. Para efetuar o cálculo, deve-se fornecer o tempo  gasto em horas na viagem e a velocidade média durante a mesma em km/h.  Assim, você conseguirá passar para Rubens qual a distância percorrida e, em seguida, calcular quantos litros serão necessários para a viagem que ele quer fazer. Mostre o valor com 3 casas decimais após o ponto.</li>\n",
    "<li>Entrada:</li>\n",
    "<li>O arquivo de entrada contém dois inteiros. O primeiro é o tempo  gasto na viagem em horas e o segundo é a velocidade média durante a  mesma em km/h.</li>\n",
    "<li>Saída:</li>\n",
    "\n",
    "</ul>\n",
    "<p>*Imprima a quantidade de litros necessária para realizar a viagem, com três dígitos após o ponto decimal</p>\n",
    "<ul>\n",
    "<li>Exemplo1:</li>\n",
    "\n",
    "</ul>\n",
    "<figure><table>\n",
    "<thead>\n",
    "<tr><th style='text-align:center;' >Entrada\t</th><th style='text-align:center;' >Saída</th></tr></thead>\n",
    "<tbody><tr><td style='text-align:center;' >10 85</td><td style='text-align:center;' >70.833</td></tr></tbody>\n",
    "</table></figure>\n",
    "<ul>\n",
    "<li>Exemplo 2:</li>\n",
    "\n",
    "</ul>\n",
    "<figure><table>\n",
    "<thead>\n",
    "<tr><th style='text-align:center;' >Entrada\t</th><th style='text-align:center;' >Saída</th></tr></thead>\n",
    "<tbody><tr><td style='text-align:center;' >22 67</td><td style='text-align:center;' >122.833</td></tr></tbody>\n",
    "</table></figure>\n"
   ]
  },
  {
   "cell_type": "code",
   "execution_count": 10,
   "id": "ece1ec49",
   "metadata": {},
   "outputs": [
    {
     "name": "stdout",
     "output_type": "stream",
     "text": [
      "25 36\n",
      "75.000\n"
     ]
    }
   ],
   "source": [
    "t, v = list(map(int,input().split()))\n",
    "quantidade_litros = (t * v) / 12\n",
    "print(f\"{quantidade_litros:.3f}\")\n",
    "\n",
    "\n",
    "\n",
    "# TODO:  Calcule quantidade de litros necessária para realizar a viagem e imprima com TRÊS dígitos após o ponto decimal"
   ]
  }
 ],
 "metadata": {
  "kernelspec": {
   "display_name": "Python 3 (ipykernel)",
   "language": "python",
   "name": "python3"
  },
  "language_info": {
   "codemirror_mode": {
    "name": "ipython",
    "version": 3
   },
   "file_extension": ".py",
   "mimetype": "text/x-python",
   "name": "python",
   "nbconvert_exporter": "python",
   "pygments_lexer": "ipython3",
   "version": "3.9.7"
  }
 },
 "nbformat": 4,
 "nbformat_minor": 5
}
